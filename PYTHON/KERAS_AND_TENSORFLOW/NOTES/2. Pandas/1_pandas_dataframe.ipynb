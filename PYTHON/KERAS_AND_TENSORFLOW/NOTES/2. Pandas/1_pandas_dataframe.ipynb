{
  "metadata": {
    "kernelspec": {
      "name": "python",
      "display_name": "Python (Pyodide)",
      "language": "python"
    },
    "language_info": {
      "codemirror_mode": {
        "name": "python",
        "version": 3
      },
      "file_extension": ".py",
      "mimetype": "text/x-python",
      "name": "python",
      "nbconvert_exporter": "python",
      "pygments_lexer": "ipython3",
      "version": "3.8"
    }
  },
  "nbformat_minor": 4,
  "nbformat": 4,
  "cells": [
    {
      "cell_type": "code",
      "source": "import numpy as np\nimport pandas as pd",
      "metadata": {
        "trusted": true
      },
      "outputs": [],
      "execution_count": 41
    },
    {
      "cell_type": "code",
      "source": "columns_1 = ['W','X','Y','Z']",
      "metadata": {
        "trusted": true
      },
      "outputs": [],
      "execution_count": 42
    },
    {
      "cell_type": "code",
      "source": "index_1 = ['A','B','C','D','E']",
      "metadata": {
        "trusted": true
      },
      "outputs": [],
      "execution_count": 43
    },
    {
      "cell_type": "code",
      "source": "from numpy.random import randint",
      "metadata": {
        "trusted": true
      },
      "outputs": [],
      "execution_count": 44
    },
    {
      "cell_type": "code",
      "source": "np.random.seed(42)\ndata_1 = randint(-100,100,(5,4))\ndata_1",
      "metadata": {
        "trusted": true
      },
      "outputs": [
        {
          "execution_count": 45,
          "output_type": "execute_result",
          "data": {
            "text/plain": "array([[  2,  79,  -8, -86],\n       [  6, -29,  88, -80],\n       [  2,  21, -26, -13],\n       [ 16,  -1,   3,  51],\n       [ 30,  49, -48, -99]])"
          },
          "metadata": {}
        }
      ],
      "execution_count": 45
    },
    {
      "cell_type": "code",
      "source": "'''\ndf = pd.DataFrame(data_1,index_1,columns_1)\nor\n'''\ndf = pd.DataFrame(data=data_1, index=index_1, columns=columns_1)\ndf",
      "metadata": {
        "trusted": true
      },
      "outputs": [
        {
          "execution_count": 46,
          "output_type": "execute_result",
          "data": {
            "text/plain": "    W   X   Y   Z\nA   2  79  -8 -86\nB   6 -29  88 -80\nC   2  21 -26 -13\nD  16  -1   3  51\nE  30  49 -48 -99",
            "text/html": "<div>\n<style scoped>\n    .dataframe tbody tr th:only-of-type {\n        vertical-align: middle;\n    }\n\n    .dataframe tbody tr th {\n        vertical-align: top;\n    }\n\n    .dataframe thead th {\n        text-align: right;\n    }\n</style>\n<table border=\"1\" class=\"dataframe\">\n  <thead>\n    <tr style=\"text-align: right;\">\n      <th></th>\n      <th>W</th>\n      <th>X</th>\n      <th>Y</th>\n      <th>Z</th>\n    </tr>\n  </thead>\n  <tbody>\n    <tr>\n      <th>A</th>\n      <td>2</td>\n      <td>79</td>\n      <td>-8</td>\n      <td>-86</td>\n    </tr>\n    <tr>\n      <th>B</th>\n      <td>6</td>\n      <td>-29</td>\n      <td>88</td>\n      <td>-80</td>\n    </tr>\n    <tr>\n      <th>C</th>\n      <td>2</td>\n      <td>21</td>\n      <td>-26</td>\n      <td>-13</td>\n    </tr>\n    <tr>\n      <th>D</th>\n      <td>16</td>\n      <td>-1</td>\n      <td>3</td>\n      <td>51</td>\n    </tr>\n    <tr>\n      <th>E</th>\n      <td>30</td>\n      <td>49</td>\n      <td>-48</td>\n      <td>-99</td>\n    </tr>\n  </tbody>\n</table>\n</div>"
          },
          "metadata": {}
        }
      ],
      "execution_count": 46
    },
    {
      "cell_type": "code",
      "source": "df['W']",
      "metadata": {
        "trusted": true,
        "tags": [],
        "editable": true,
        "slideshow": {
          "slide_type": ""
        }
      },
      "outputs": [
        {
          "execution_count": 47,
          "output_type": "execute_result",
          "data": {
            "text/plain": "A     2\nB     6\nC     2\nD    16\nE    30\nName: W, dtype: int32"
          },
          "metadata": {}
        }
      ],
      "execution_count": 47
    },
    {
      "cell_type": "code",
      "source": "df[['W','Z']]",
      "metadata": {
        "trusted": true
      },
      "outputs": [
        {
          "execution_count": 48,
          "output_type": "execute_result",
          "data": {
            "text/plain": "    W   Z\nA   2 -86\nB   6 -80\nC   2 -13\nD  16  51\nE  30 -99",
            "text/html": "<div>\n<style scoped>\n    .dataframe tbody tr th:only-of-type {\n        vertical-align: middle;\n    }\n\n    .dataframe tbody tr th {\n        vertical-align: top;\n    }\n\n    .dataframe thead th {\n        text-align: right;\n    }\n</style>\n<table border=\"1\" class=\"dataframe\">\n  <thead>\n    <tr style=\"text-align: right;\">\n      <th></th>\n      <th>W</th>\n      <th>Z</th>\n    </tr>\n  </thead>\n  <tbody>\n    <tr>\n      <th>A</th>\n      <td>2</td>\n      <td>-86</td>\n    </tr>\n    <tr>\n      <th>B</th>\n      <td>6</td>\n      <td>-80</td>\n    </tr>\n    <tr>\n      <th>C</th>\n      <td>2</td>\n      <td>-13</td>\n    </tr>\n    <tr>\n      <th>D</th>\n      <td>16</td>\n      <td>51</td>\n    </tr>\n    <tr>\n      <th>E</th>\n      <td>30</td>\n      <td>-99</td>\n    </tr>\n  </tbody>\n</table>\n</div>"
          },
          "metadata": {}
        }
      ],
      "execution_count": 48
    },
    {
      "cell_type": "code",
      "source": "type(df['W'])",
      "metadata": {
        "trusted": true
      },
      "outputs": [
        {
          "execution_count": 49,
          "output_type": "execute_result",
          "data": {
            "text/plain": "pandas.core.series.Series"
          },
          "metadata": {}
        }
      ],
      "execution_count": 49
    },
    {
      "cell_type": "code",
      "source": "type(df)",
      "metadata": {
        "trusted": true
      },
      "outputs": [
        {
          "execution_count": 50,
          "output_type": "execute_result",
          "data": {
            "text/plain": "pandas.core.frame.DataFrame"
          },
          "metadata": {}
        }
      ],
      "execution_count": 50
    },
    {
      "cell_type": "code",
      "source": "df['new'] = df['W'] + df['Y']",
      "metadata": {
        "trusted": true
      },
      "outputs": [],
      "execution_count": 51
    },
    {
      "cell_type": "code",
      "source": "df['new']",
      "metadata": {
        "trusted": true
      },
      "outputs": [
        {
          "execution_count": 52,
          "output_type": "execute_result",
          "data": {
            "text/plain": "A    -6\nB    94\nC   -24\nD    19\nE   -18\nName: new, dtype: int32"
          },
          "metadata": {}
        }
      ],
      "execution_count": 52
    },
    {
      "cell_type": "code",
      "source": "df",
      "metadata": {
        "trusted": true
      },
      "outputs": [
        {
          "execution_count": 53,
          "output_type": "execute_result",
          "data": {
            "text/plain": "    W   X   Y   Z  new\nA   2  79  -8 -86   -6\nB   6 -29  88 -80   94\nC   2  21 -26 -13  -24\nD  16  -1   3  51   19\nE  30  49 -48 -99  -18",
            "text/html": "<div>\n<style scoped>\n    .dataframe tbody tr th:only-of-type {\n        vertical-align: middle;\n    }\n\n    .dataframe tbody tr th {\n        vertical-align: top;\n    }\n\n    .dataframe thead th {\n        text-align: right;\n    }\n</style>\n<table border=\"1\" class=\"dataframe\">\n  <thead>\n    <tr style=\"text-align: right;\">\n      <th></th>\n      <th>W</th>\n      <th>X</th>\n      <th>Y</th>\n      <th>Z</th>\n      <th>new</th>\n    </tr>\n  </thead>\n  <tbody>\n    <tr>\n      <th>A</th>\n      <td>2</td>\n      <td>79</td>\n      <td>-8</td>\n      <td>-86</td>\n      <td>-6</td>\n    </tr>\n    <tr>\n      <th>B</th>\n      <td>6</td>\n      <td>-29</td>\n      <td>88</td>\n      <td>-80</td>\n      <td>94</td>\n    </tr>\n    <tr>\n      <th>C</th>\n      <td>2</td>\n      <td>21</td>\n      <td>-26</td>\n      <td>-13</td>\n      <td>-24</td>\n    </tr>\n    <tr>\n      <th>D</th>\n      <td>16</td>\n      <td>-1</td>\n      <td>3</td>\n      <td>51</td>\n      <td>19</td>\n    </tr>\n    <tr>\n      <th>E</th>\n      <td>30</td>\n      <td>49</td>\n      <td>-48</td>\n      <td>-99</td>\n      <td>-18</td>\n    </tr>\n  </tbody>\n</table>\n</div>"
          },
          "metadata": {}
        }
      ],
      "execution_count": 53
    },
    {
      "cell_type": "code",
      "source": "# Removing a column from output\ndf.drop('new',axis=1)",
      "metadata": {
        "trusted": true
      },
      "outputs": [
        {
          "execution_count": 54,
          "output_type": "execute_result",
          "data": {
            "text/plain": "    W   X   Y   Z\nA   2  79  -8 -86\nB   6 -29  88 -80\nC   2  21 -26 -13\nD  16  -1   3  51\nE  30  49 -48 -99",
            "text/html": "<div>\n<style scoped>\n    .dataframe tbody tr th:only-of-type {\n        vertical-align: middle;\n    }\n\n    .dataframe tbody tr th {\n        vertical-align: top;\n    }\n\n    .dataframe thead th {\n        text-align: right;\n    }\n</style>\n<table border=\"1\" class=\"dataframe\">\n  <thead>\n    <tr style=\"text-align: right;\">\n      <th></th>\n      <th>W</th>\n      <th>X</th>\n      <th>Y</th>\n      <th>Z</th>\n    </tr>\n  </thead>\n  <tbody>\n    <tr>\n      <th>A</th>\n      <td>2</td>\n      <td>79</td>\n      <td>-8</td>\n      <td>-86</td>\n    </tr>\n    <tr>\n      <th>B</th>\n      <td>6</td>\n      <td>-29</td>\n      <td>88</td>\n      <td>-80</td>\n    </tr>\n    <tr>\n      <th>C</th>\n      <td>2</td>\n      <td>21</td>\n      <td>-26</td>\n      <td>-13</td>\n    </tr>\n    <tr>\n      <th>D</th>\n      <td>16</td>\n      <td>-1</td>\n      <td>3</td>\n      <td>51</td>\n    </tr>\n    <tr>\n      <th>E</th>\n      <td>30</td>\n      <td>49</td>\n      <td>-48</td>\n      <td>-99</td>\n    </tr>\n  </tbody>\n</table>\n</div>"
          },
          "metadata": {}
        }
      ],
      "execution_count": 54
    },
    {
      "cell_type": "code",
      "source": "df",
      "metadata": {
        "trusted": true
      },
      "outputs": [
        {
          "execution_count": 55,
          "output_type": "execute_result",
          "data": {
            "text/plain": "    W   X   Y   Z  new\nA   2  79  -8 -86   -6\nB   6 -29  88 -80   94\nC   2  21 -26 -13  -24\nD  16  -1   3  51   19\nE  30  49 -48 -99  -18",
            "text/html": "<div>\n<style scoped>\n    .dataframe tbody tr th:only-of-type {\n        vertical-align: middle;\n    }\n\n    .dataframe tbody tr th {\n        vertical-align: top;\n    }\n\n    .dataframe thead th {\n        text-align: right;\n    }\n</style>\n<table border=\"1\" class=\"dataframe\">\n  <thead>\n    <tr style=\"text-align: right;\">\n      <th></th>\n      <th>W</th>\n      <th>X</th>\n      <th>Y</th>\n      <th>Z</th>\n      <th>new</th>\n    </tr>\n  </thead>\n  <tbody>\n    <tr>\n      <th>A</th>\n      <td>2</td>\n      <td>79</td>\n      <td>-8</td>\n      <td>-86</td>\n      <td>-6</td>\n    </tr>\n    <tr>\n      <th>B</th>\n      <td>6</td>\n      <td>-29</td>\n      <td>88</td>\n      <td>-80</td>\n      <td>94</td>\n    </tr>\n    <tr>\n      <th>C</th>\n      <td>2</td>\n      <td>21</td>\n      <td>-26</td>\n      <td>-13</td>\n      <td>-24</td>\n    </tr>\n    <tr>\n      <th>D</th>\n      <td>16</td>\n      <td>-1</td>\n      <td>3</td>\n      <td>51</td>\n      <td>19</td>\n    </tr>\n    <tr>\n      <th>E</th>\n      <td>30</td>\n      <td>49</td>\n      <td>-48</td>\n      <td>-99</td>\n      <td>-18</td>\n    </tr>\n  </tbody>\n</table>\n</div>"
          },
          "metadata": {}
        }
      ],
      "execution_count": 55
    },
    {
      "cell_type": "code",
      "source": "# Removing a column permanently\ndf = df.drop('new',axis=1)\ndf",
      "metadata": {
        "trusted": true
      },
      "outputs": [
        {
          "execution_count": 56,
          "output_type": "execute_result",
          "data": {
            "text/plain": "    W   X   Y   Z\nA   2  79  -8 -86\nB   6 -29  88 -80\nC   2  21 -26 -13\nD  16  -1   3  51\nE  30  49 -48 -99",
            "text/html": "<div>\n<style scoped>\n    .dataframe tbody tr th:only-of-type {\n        vertical-align: middle;\n    }\n\n    .dataframe tbody tr th {\n        vertical-align: top;\n    }\n\n    .dataframe thead th {\n        text-align: right;\n    }\n</style>\n<table border=\"1\" class=\"dataframe\">\n  <thead>\n    <tr style=\"text-align: right;\">\n      <th></th>\n      <th>W</th>\n      <th>X</th>\n      <th>Y</th>\n      <th>Z</th>\n    </tr>\n  </thead>\n  <tbody>\n    <tr>\n      <th>A</th>\n      <td>2</td>\n      <td>79</td>\n      <td>-8</td>\n      <td>-86</td>\n    </tr>\n    <tr>\n      <th>B</th>\n      <td>6</td>\n      <td>-29</td>\n      <td>88</td>\n      <td>-80</td>\n    </tr>\n    <tr>\n      <th>C</th>\n      <td>2</td>\n      <td>21</td>\n      <td>-26</td>\n      <td>-13</td>\n    </tr>\n    <tr>\n      <th>D</th>\n      <td>16</td>\n      <td>-1</td>\n      <td>3</td>\n      <td>51</td>\n    </tr>\n    <tr>\n      <th>E</th>\n      <td>30</td>\n      <td>49</td>\n      <td>-48</td>\n      <td>-99</td>\n    </tr>\n  </tbody>\n</table>\n</div>"
          },
          "metadata": {}
        }
      ],
      "execution_count": 56
    },
    {
      "cell_type": "code",
      "source": "# U get an error when you try to choose a row, anything in axis=0\ndf['A']",
      "metadata": {
        "trusted": true
      },
      "outputs": [
        {
          "ename": "<class 'KeyError'>",
          "evalue": "'A'",
          "traceback": [
            "\u001b[0;31m---------------------------------------------------------------------------\u001b[0m",
            "\u001b[0;31mKeyError\u001b[0m                                  Traceback (most recent call last)",
            "File \u001b[0;32m/lib/python3.11/site-packages/pandas/core/indexes/base.py:3802\u001b[0m, in \u001b[0;36mIndex.get_loc\u001b[0;34m(self, key, method, tolerance)\u001b[0m\n\u001b[1;32m   3801\u001b[0m \u001b[38;5;28;01mtry\u001b[39;00m:\n\u001b[0;32m-> 3802\u001b[0m     \u001b[38;5;28;01mreturn\u001b[39;00m \u001b[38;5;28;43mself\u001b[39;49m\u001b[38;5;241;43m.\u001b[39;49m\u001b[43m_engine\u001b[49m\u001b[38;5;241;43m.\u001b[39;49m\u001b[43mget_loc\u001b[49m\u001b[43m(\u001b[49m\u001b[43mcasted_key\u001b[49m\u001b[43m)\u001b[49m\n\u001b[1;32m   3803\u001b[0m \u001b[38;5;28;01mexcept\u001b[39;00m \u001b[38;5;167;01mKeyError\u001b[39;00m \u001b[38;5;28;01mas\u001b[39;00m err:\n",
            "File \u001b[0;32m/lib/python3.11/site-packages/pandas/_libs/index.pyx:138\u001b[0m, in \u001b[0;36mpandas._libs.index.IndexEngine.get_loc\u001b[0;34m()\u001b[0m\n",
            "File \u001b[0;32m/lib/python3.11/site-packages/pandas/_libs/index.pyx:165\u001b[0m, in \u001b[0;36mpandas._libs.index.IndexEngine.get_loc\u001b[0;34m()\u001b[0m\n",
            "File \u001b[0;32mpandas/_libs/hashtable_class_helper.pxi:5745\u001b[0m, in \u001b[0;36mpandas._libs.hashtable.PyObjectHashTable.get_item\u001b[0;34m()\u001b[0m\n",
            "File \u001b[0;32mpandas/_libs/hashtable_class_helper.pxi:5753\u001b[0m, in \u001b[0;36mpandas._libs.hashtable.PyObjectHashTable.get_item\u001b[0;34m()\u001b[0m\n",
            "\u001b[0;31mKeyError\u001b[0m: 'A'",
            "\nThe above exception was the direct cause of the following exception:\n",
            "\u001b[0;31mKeyError\u001b[0m                                  Traceback (most recent call last)",
            "Cell \u001b[0;32mIn[57], line 2\u001b[0m\n\u001b[1;32m      1\u001b[0m \u001b[38;5;66;03m# U get an error when you try to choose a row, anything in axis=0\u001b[39;00m\n\u001b[0;32m----> 2\u001b[0m \u001b[43mdf\u001b[49m\u001b[43m[\u001b[49m\u001b[38;5;124;43m'\u001b[39;49m\u001b[38;5;124;43mA\u001b[39;49m\u001b[38;5;124;43m'\u001b[39;49m\u001b[43m]\u001b[49m\n",
            "File \u001b[0;32m/lib/python3.11/site-packages/pandas/core/frame.py:3807\u001b[0m, in \u001b[0;36mDataFrame.__getitem__\u001b[0;34m(self, key)\u001b[0m\n\u001b[1;32m   3805\u001b[0m \u001b[38;5;28;01mif\u001b[39;00m \u001b[38;5;28mself\u001b[39m\u001b[38;5;241m.\u001b[39mcolumns\u001b[38;5;241m.\u001b[39mnlevels \u001b[38;5;241m>\u001b[39m \u001b[38;5;241m1\u001b[39m:\n\u001b[1;32m   3806\u001b[0m     \u001b[38;5;28;01mreturn\u001b[39;00m \u001b[38;5;28mself\u001b[39m\u001b[38;5;241m.\u001b[39m_getitem_multilevel(key)\n\u001b[0;32m-> 3807\u001b[0m indexer \u001b[38;5;241m=\u001b[39m \u001b[38;5;28;43mself\u001b[39;49m\u001b[38;5;241;43m.\u001b[39;49m\u001b[43mcolumns\u001b[49m\u001b[38;5;241;43m.\u001b[39;49m\u001b[43mget_loc\u001b[49m\u001b[43m(\u001b[49m\u001b[43mkey\u001b[49m\u001b[43m)\u001b[49m\n\u001b[1;32m   3808\u001b[0m \u001b[38;5;28;01mif\u001b[39;00m is_integer(indexer):\n\u001b[1;32m   3809\u001b[0m     indexer \u001b[38;5;241m=\u001b[39m [indexer]\n",
            "File \u001b[0;32m/lib/python3.11/site-packages/pandas/core/indexes/base.py:3804\u001b[0m, in \u001b[0;36mIndex.get_loc\u001b[0;34m(self, key, method, tolerance)\u001b[0m\n\u001b[1;32m   3802\u001b[0m     \u001b[38;5;28;01mreturn\u001b[39;00m \u001b[38;5;28mself\u001b[39m\u001b[38;5;241m.\u001b[39m_engine\u001b[38;5;241m.\u001b[39mget_loc(casted_key)\n\u001b[1;32m   3803\u001b[0m \u001b[38;5;28;01mexcept\u001b[39;00m \u001b[38;5;167;01mKeyError\u001b[39;00m \u001b[38;5;28;01mas\u001b[39;00m err:\n\u001b[0;32m-> 3804\u001b[0m     \u001b[38;5;28;01mraise\u001b[39;00m \u001b[38;5;167;01mKeyError\u001b[39;00m(key) \u001b[38;5;28;01mfrom\u001b[39;00m \u001b[38;5;21;01merr\u001b[39;00m\n\u001b[1;32m   3805\u001b[0m \u001b[38;5;28;01mexcept\u001b[39;00m \u001b[38;5;167;01mTypeError\u001b[39;00m:\n\u001b[1;32m   3806\u001b[0m     \u001b[38;5;66;03m# If we have a listlike key, _check_indexing_error will raise\u001b[39;00m\n\u001b[1;32m   3807\u001b[0m     \u001b[38;5;66;03m#  InvalidIndexError. Otherwise we fall through and re-raise\u001b[39;00m\n\u001b[1;32m   3808\u001b[0m     \u001b[38;5;66;03m#  the TypeError.\u001b[39;00m\n\u001b[1;32m   3809\u001b[0m     \u001b[38;5;28mself\u001b[39m\u001b[38;5;241m.\u001b[39m_check_indexing_error(key)\n",
            "\u001b[0;31mKeyError\u001b[0m: 'A'"
          ],
          "output_type": "error"
        }
      ],
      "execution_count": 57
    },
    {
      "cell_type": "code",
      "source": "# U get the output when u choose the column, anything in axis=1\ndf['Y']",
      "metadata": {
        "trusted": true
      },
      "outputs": [
        {
          "execution_count": 58,
          "output_type": "execute_result",
          "data": {
            "text/plain": "A    -8\nB    88\nC   -26\nD     3\nE   -48\nName: Y, dtype: int32"
          },
          "metadata": {}
        }
      ],
      "execution_count": 58
    },
    {
      "cell_type": "code",
      "source": "# U get the output when u use .loc[] to choose a row, anything in axis=0\ndf.loc['A']",
      "metadata": {
        "trusted": true
      },
      "outputs": [
        {
          "execution_count": 59,
          "output_type": "execute_result",
          "data": {
            "text/plain": "W     2\nX    79\nY    -8\nZ   -86\nName: A, dtype: int32"
          },
          "metadata": {}
        }
      ],
      "execution_count": 59
    },
    {
      "cell_type": "code",
      "source": "df.loc[['A','C']]",
      "metadata": {
        "trusted": true
      },
      "outputs": [
        {
          "execution_count": 60,
          "output_type": "execute_result",
          "data": {
            "text/plain": "   W   X   Y   Z\nA  2  79  -8 -86\nC  2  21 -26 -13",
            "text/html": "<div>\n<style scoped>\n    .dataframe tbody tr th:only-of-type {\n        vertical-align: middle;\n    }\n\n    .dataframe tbody tr th {\n        vertical-align: top;\n    }\n\n    .dataframe thead th {\n        text-align: right;\n    }\n</style>\n<table border=\"1\" class=\"dataframe\">\n  <thead>\n    <tr style=\"text-align: right;\">\n      <th></th>\n      <th>W</th>\n      <th>X</th>\n      <th>Y</th>\n      <th>Z</th>\n    </tr>\n  </thead>\n  <tbody>\n    <tr>\n      <th>A</th>\n      <td>2</td>\n      <td>79</td>\n      <td>-8</td>\n      <td>-86</td>\n    </tr>\n    <tr>\n      <th>C</th>\n      <td>2</td>\n      <td>21</td>\n      <td>-26</td>\n      <td>-13</td>\n    </tr>\n  </tbody>\n</table>\n</div>"
          },
          "metadata": {}
        }
      ],
      "execution_count": 60
    },
    {
      "cell_type": "code",
      "source": "# Fetching index-based location, we can use slicing too\ndf.iloc[0]",
      "metadata": {
        "trusted": true
      },
      "outputs": [
        {
          "execution_count": 61,
          "output_type": "execute_result",
          "data": {
            "text/plain": "W     2\nX    79\nY    -8\nZ   -86\nName: A, dtype: int32"
          },
          "metadata": {}
        }
      ],
      "execution_count": 61
    },
    {
      "cell_type": "code",
      "source": "df",
      "metadata": {
        "trusted": true
      },
      "outputs": [
        {
          "execution_count": 62,
          "output_type": "execute_result",
          "data": {
            "text/plain": "    W   X   Y   Z\nA   2  79  -8 -86\nB   6 -29  88 -80\nC   2  21 -26 -13\nD  16  -1   3  51\nE  30  49 -48 -99",
            "text/html": "<div>\n<style scoped>\n    .dataframe tbody tr th:only-of-type {\n        vertical-align: middle;\n    }\n\n    .dataframe tbody tr th {\n        vertical-align: top;\n    }\n\n    .dataframe thead th {\n        text-align: right;\n    }\n</style>\n<table border=\"1\" class=\"dataframe\">\n  <thead>\n    <tr style=\"text-align: right;\">\n      <th></th>\n      <th>W</th>\n      <th>X</th>\n      <th>Y</th>\n      <th>Z</th>\n    </tr>\n  </thead>\n  <tbody>\n    <tr>\n      <th>A</th>\n      <td>2</td>\n      <td>79</td>\n      <td>-8</td>\n      <td>-86</td>\n    </tr>\n    <tr>\n      <th>B</th>\n      <td>6</td>\n      <td>-29</td>\n      <td>88</td>\n      <td>-80</td>\n    </tr>\n    <tr>\n      <th>C</th>\n      <td>2</td>\n      <td>21</td>\n      <td>-26</td>\n      <td>-13</td>\n    </tr>\n    <tr>\n      <th>D</th>\n      <td>16</td>\n      <td>-1</td>\n      <td>3</td>\n      <td>51</td>\n    </tr>\n    <tr>\n      <th>E</th>\n      <td>30</td>\n      <td>49</td>\n      <td>-48</td>\n      <td>-99</td>\n    </tr>\n  </tbody>\n</table>\n</div>"
          },
          "metadata": {}
        }
      ],
      "execution_count": 62
    },
    {
      "cell_type": "code",
      "source": "df.iloc[-1]",
      "metadata": {
        "trusted": true
      },
      "outputs": [
        {
          "execution_count": 63,
          "output_type": "execute_result",
          "data": {
            "text/plain": "W    30\nX    49\nY   -48\nZ   -99\nName: E, dtype: int32"
          },
          "metadata": {}
        }
      ],
      "execution_count": 63
    },
    {
      "cell_type": "code",
      "source": "df.iloc[0:3]",
      "metadata": {
        "trusted": true
      },
      "outputs": [
        {
          "execution_count": 64,
          "output_type": "execute_result",
          "data": {
            "text/plain": "   W   X   Y   Z\nA  2  79  -8 -86\nB  6 -29  88 -80\nC  2  21 -26 -13",
            "text/html": "<div>\n<style scoped>\n    .dataframe tbody tr th:only-of-type {\n        vertical-align: middle;\n    }\n\n    .dataframe tbody tr th {\n        vertical-align: top;\n    }\n\n    .dataframe thead th {\n        text-align: right;\n    }\n</style>\n<table border=\"1\" class=\"dataframe\">\n  <thead>\n    <tr style=\"text-align: right;\">\n      <th></th>\n      <th>W</th>\n      <th>X</th>\n      <th>Y</th>\n      <th>Z</th>\n    </tr>\n  </thead>\n  <tbody>\n    <tr>\n      <th>A</th>\n      <td>2</td>\n      <td>79</td>\n      <td>-8</td>\n      <td>-86</td>\n    </tr>\n    <tr>\n      <th>B</th>\n      <td>6</td>\n      <td>-29</td>\n      <td>88</td>\n      <td>-80</td>\n    </tr>\n    <tr>\n      <th>C</th>\n      <td>2</td>\n      <td>21</td>\n      <td>-26</td>\n      <td>-13</td>\n    </tr>\n  </tbody>\n</table>\n</div>"
          },
          "metadata": {}
        }
      ],
      "execution_count": 64
    },
    {
      "cell_type": "code",
      "source": "df.drop('C')",
      "metadata": {
        "trusted": true
      },
      "outputs": [
        {
          "execution_count": 65,
          "output_type": "execute_result",
          "data": {
            "text/plain": "    W   X   Y   Z\nA   2  79  -8 -86\nB   6 -29  88 -80\nD  16  -1   3  51\nE  30  49 -48 -99",
            "text/html": "<div>\n<style scoped>\n    .dataframe tbody tr th:only-of-type {\n        vertical-align: middle;\n    }\n\n    .dataframe tbody tr th {\n        vertical-align: top;\n    }\n\n    .dataframe thead th {\n        text-align: right;\n    }\n</style>\n<table border=\"1\" class=\"dataframe\">\n  <thead>\n    <tr style=\"text-align: right;\">\n      <th></th>\n      <th>W</th>\n      <th>X</th>\n      <th>Y</th>\n      <th>Z</th>\n    </tr>\n  </thead>\n  <tbody>\n    <tr>\n      <th>A</th>\n      <td>2</td>\n      <td>79</td>\n      <td>-8</td>\n      <td>-86</td>\n    </tr>\n    <tr>\n      <th>B</th>\n      <td>6</td>\n      <td>-29</td>\n      <td>88</td>\n      <td>-80</td>\n    </tr>\n    <tr>\n      <th>D</th>\n      <td>16</td>\n      <td>-1</td>\n      <td>3</td>\n      <td>51</td>\n    </tr>\n    <tr>\n      <th>E</th>\n      <td>30</td>\n      <td>49</td>\n      <td>-48</td>\n      <td>-99</td>\n    </tr>\n  </tbody>\n</table>\n</div>"
          },
          "metadata": {}
        }
      ],
      "execution_count": 65
    },
    {
      "cell_type": "code",
      "source": "df",
      "metadata": {
        "trusted": true
      },
      "outputs": [
        {
          "execution_count": 66,
          "output_type": "execute_result",
          "data": {
            "text/plain": "    W   X   Y   Z\nA   2  79  -8 -86\nB   6 -29  88 -80\nC   2  21 -26 -13\nD  16  -1   3  51\nE  30  49 -48 -99",
            "text/html": "<div>\n<style scoped>\n    .dataframe tbody tr th:only-of-type {\n        vertical-align: middle;\n    }\n\n    .dataframe tbody tr th {\n        vertical-align: top;\n    }\n\n    .dataframe thead th {\n        text-align: right;\n    }\n</style>\n<table border=\"1\" class=\"dataframe\">\n  <thead>\n    <tr style=\"text-align: right;\">\n      <th></th>\n      <th>W</th>\n      <th>X</th>\n      <th>Y</th>\n      <th>Z</th>\n    </tr>\n  </thead>\n  <tbody>\n    <tr>\n      <th>A</th>\n      <td>2</td>\n      <td>79</td>\n      <td>-8</td>\n      <td>-86</td>\n    </tr>\n    <tr>\n      <th>B</th>\n      <td>6</td>\n      <td>-29</td>\n      <td>88</td>\n      <td>-80</td>\n    </tr>\n    <tr>\n      <th>C</th>\n      <td>2</td>\n      <td>21</td>\n      <td>-26</td>\n      <td>-13</td>\n    </tr>\n    <tr>\n      <th>D</th>\n      <td>16</td>\n      <td>-1</td>\n      <td>3</td>\n      <td>51</td>\n    </tr>\n    <tr>\n      <th>E</th>\n      <td>30</td>\n      <td>49</td>\n      <td>-48</td>\n      <td>-99</td>\n    </tr>\n  </tbody>\n</table>\n</div>"
          },
          "metadata": {}
        }
      ],
      "execution_count": 66
    },
    {
      "cell_type": "code",
      "source": "df.loc[['A'],['W']]",
      "metadata": {
        "trusted": true
      },
      "outputs": [
        {
          "execution_count": 71,
          "output_type": "execute_result",
          "data": {
            "text/plain": "   W\nA  2",
            "text/html": "<div>\n<style scoped>\n    .dataframe tbody tr th:only-of-type {\n        vertical-align: middle;\n    }\n\n    .dataframe tbody tr th {\n        vertical-align: top;\n    }\n\n    .dataframe thead th {\n        text-align: right;\n    }\n</style>\n<table border=\"1\" class=\"dataframe\">\n  <thead>\n    <tr style=\"text-align: right;\">\n      <th></th>\n      <th>W</th>\n    </tr>\n  </thead>\n  <tbody>\n    <tr>\n      <th>A</th>\n      <td>2</td>\n    </tr>\n  </tbody>\n</table>\n</div>"
          },
          "metadata": {}
        }
      ],
      "execution_count": 71
    },
    {
      "cell_type": "code",
      "source": "df.loc[['A','C'],'W']",
      "metadata": {
        "trusted": true
      },
      "outputs": [
        {
          "execution_count": 72,
          "output_type": "execute_result",
          "data": {
            "text/plain": "A    2\nC    2\nName: W, dtype: int32"
          },
          "metadata": {}
        }
      ],
      "execution_count": 72
    },
    {
      "cell_type": "code",
      "source": "df.loc[['A','C'],['W','Y']]",
      "metadata": {
        "trusted": true
      },
      "outputs": [
        {
          "execution_count": 73,
          "output_type": "execute_result",
          "data": {
            "text/plain": "   W   Y\nA  2  -8\nC  2 -26",
            "text/html": "<div>\n<style scoped>\n    .dataframe tbody tr th:only-of-type {\n        vertical-align: middle;\n    }\n\n    .dataframe tbody tr th {\n        vertical-align: top;\n    }\n\n    .dataframe thead th {\n        text-align: right;\n    }\n</style>\n<table border=\"1\" class=\"dataframe\">\n  <thead>\n    <tr style=\"text-align: right;\">\n      <th></th>\n      <th>W</th>\n      <th>Y</th>\n    </tr>\n  </thead>\n  <tbody>\n    <tr>\n      <th>A</th>\n      <td>2</td>\n      <td>-8</td>\n    </tr>\n    <tr>\n      <th>C</th>\n      <td>2</td>\n      <td>-26</td>\n    </tr>\n  </tbody>\n</table>\n</div>"
          },
          "metadata": {}
        }
      ],
      "execution_count": 73
    },
    {
      "cell_type": "code",
      "source": "",
      "metadata": {
        "trusted": true
      },
      "outputs": [],
      "execution_count": null
    },
    {
      "cell_type": "code",
      "source": "",
      "metadata": {
        "trusted": true
      },
      "outputs": [],
      "execution_count": null
    },
    {
      "cell_type": "code",
      "source": "",
      "metadata": {
        "trusted": true
      },
      "outputs": [],
      "execution_count": null
    },
    {
      "cell_type": "code",
      "source": "df > 0",
      "metadata": {
        "trusted": true
      },
      "outputs": [
        {
          "execution_count": 74,
          "output_type": "execute_result",
          "data": {
            "text/plain": "      W      X      Y      Z\nA  True   True  False  False\nB  True  False   True  False\nC  True   True  False  False\nD  True  False   True   True\nE  True   True  False  False",
            "text/html": "<div>\n<style scoped>\n    .dataframe tbody tr th:only-of-type {\n        vertical-align: middle;\n    }\n\n    .dataframe tbody tr th {\n        vertical-align: top;\n    }\n\n    .dataframe thead th {\n        text-align: right;\n    }\n</style>\n<table border=\"1\" class=\"dataframe\">\n  <thead>\n    <tr style=\"text-align: right;\">\n      <th></th>\n      <th>W</th>\n      <th>X</th>\n      <th>Y</th>\n      <th>Z</th>\n    </tr>\n  </thead>\n  <tbody>\n    <tr>\n      <th>A</th>\n      <td>True</td>\n      <td>True</td>\n      <td>False</td>\n      <td>False</td>\n    </tr>\n    <tr>\n      <th>B</th>\n      <td>True</td>\n      <td>False</td>\n      <td>True</td>\n      <td>False</td>\n    </tr>\n    <tr>\n      <th>C</th>\n      <td>True</td>\n      <td>True</td>\n      <td>False</td>\n      <td>False</td>\n    </tr>\n    <tr>\n      <th>D</th>\n      <td>True</td>\n      <td>False</td>\n      <td>True</td>\n      <td>True</td>\n    </tr>\n    <tr>\n      <th>E</th>\n      <td>True</td>\n      <td>True</td>\n      <td>False</td>\n      <td>False</td>\n    </tr>\n  </tbody>\n</table>\n</div>"
          },
          "metadata": {}
        }
      ],
      "execution_count": 74
    },
    {
      "cell_type": "code",
      "source": "df [df > 0]",
      "metadata": {
        "trusted": true
      },
      "outputs": [
        {
          "execution_count": 75,
          "output_type": "execute_result",
          "data": {
            "text/plain": "    W     X     Y     Z\nA   2  79.0   NaN   NaN\nB   6   NaN  88.0   NaN\nC   2  21.0   NaN   NaN\nD  16   NaN   3.0  51.0\nE  30  49.0   NaN   NaN",
            "text/html": "<div>\n<style scoped>\n    .dataframe tbody tr th:only-of-type {\n        vertical-align: middle;\n    }\n\n    .dataframe tbody tr th {\n        vertical-align: top;\n    }\n\n    .dataframe thead th {\n        text-align: right;\n    }\n</style>\n<table border=\"1\" class=\"dataframe\">\n  <thead>\n    <tr style=\"text-align: right;\">\n      <th></th>\n      <th>W</th>\n      <th>X</th>\n      <th>Y</th>\n      <th>Z</th>\n    </tr>\n  </thead>\n  <tbody>\n    <tr>\n      <th>A</th>\n      <td>2</td>\n      <td>79.0</td>\n      <td>NaN</td>\n      <td>NaN</td>\n    </tr>\n    <tr>\n      <th>B</th>\n      <td>6</td>\n      <td>NaN</td>\n      <td>88.0</td>\n      <td>NaN</td>\n    </tr>\n    <tr>\n      <th>C</th>\n      <td>2</td>\n      <td>21.0</td>\n      <td>NaN</td>\n      <td>NaN</td>\n    </tr>\n    <tr>\n      <th>D</th>\n      <td>16</td>\n      <td>NaN</td>\n      <td>3.0</td>\n      <td>51.0</td>\n    </tr>\n    <tr>\n      <th>E</th>\n      <td>30</td>\n      <td>49.0</td>\n      <td>NaN</td>\n      <td>NaN</td>\n    </tr>\n  </tbody>\n</table>\n</div>"
          },
          "metadata": {}
        }
      ],
      "execution_count": 75
    },
    {
      "cell_type": "code",
      "source": "# NOTE: NaN means Not a Number",
      "metadata": {
        "trusted": true
      },
      "outputs": [],
      "execution_count": 76
    },
    {
      "cell_type": "code",
      "source": "df['X'] > 0",
      "metadata": {
        "trusted": true
      },
      "outputs": [
        {
          "execution_count": 77,
          "output_type": "execute_result",
          "data": {
            "text/plain": "A     True\nB    False\nC     True\nD    False\nE     True\nName: X, dtype: bool"
          },
          "metadata": {}
        }
      ],
      "execution_count": 77
    },
    {
      "cell_type": "code",
      "source": "df [df['X'] > 0]",
      "metadata": {
        "trusted": true
      },
      "outputs": [
        {
          "execution_count": 78,
          "output_type": "execute_result",
          "data": {
            "text/plain": "    W   X   Y   Z\nA   2  79  -8 -86\nC   2  21 -26 -13\nE  30  49 -48 -99",
            "text/html": "<div>\n<style scoped>\n    .dataframe tbody tr th:only-of-type {\n        vertical-align: middle;\n    }\n\n    .dataframe tbody tr th {\n        vertical-align: top;\n    }\n\n    .dataframe thead th {\n        text-align: right;\n    }\n</style>\n<table border=\"1\" class=\"dataframe\">\n  <thead>\n    <tr style=\"text-align: right;\">\n      <th></th>\n      <th>W</th>\n      <th>X</th>\n      <th>Y</th>\n      <th>Z</th>\n    </tr>\n  </thead>\n  <tbody>\n    <tr>\n      <th>A</th>\n      <td>2</td>\n      <td>79</td>\n      <td>-8</td>\n      <td>-86</td>\n    </tr>\n    <tr>\n      <th>C</th>\n      <td>2</td>\n      <td>21</td>\n      <td>-26</td>\n      <td>-13</td>\n    </tr>\n    <tr>\n      <th>E</th>\n      <td>30</td>\n      <td>49</td>\n      <td>-48</td>\n      <td>-99</td>\n    </tr>\n  </tbody>\n</table>\n</div>"
          },
          "metadata": {}
        }
      ],
      "execution_count": 78
    },
    {
      "cell_type": "code",
      "source": "# Displays only column X where X > 0\ndf [df['X'] > 0]['X']",
      "metadata": {
        "trusted": true
      },
      "outputs": [
        {
          "execution_count": 86,
          "output_type": "execute_result",
          "data": {
            "text/plain": "A    79\nC    21\nE    49\nName: X, dtype: int32"
          },
          "metadata": {}
        }
      ],
      "execution_count": 86
    },
    {
      "cell_type": "code",
      "source": "# Displays only column W where X > 0\ndf[df['X'] > 0]['W']",
      "metadata": {
        "trusted": true
      },
      "outputs": [
        {
          "execution_count": 85,
          "output_type": "execute_result",
          "data": {
            "text/plain": "A     2\nC     2\nE    30\nName: W, dtype: int32"
          },
          "metadata": {}
        }
      ],
      "execution_count": 85
    },
    {
      "cell_type": "code",
      "source": "df[(df['W'] > 0) & (df['Y'] > 1)]",
      "metadata": {
        "trusted": true
      },
      "outputs": [
        {
          "execution_count": 87,
          "output_type": "execute_result",
          "data": {
            "text/plain": "    W   X   Y   Z\nB   6 -29  88 -80\nD  16  -1   3  51",
            "text/html": "<div>\n<style scoped>\n    .dataframe tbody tr th:only-of-type {\n        vertical-align: middle;\n    }\n\n    .dataframe tbody tr th {\n        vertical-align: top;\n    }\n\n    .dataframe thead th {\n        text-align: right;\n    }\n</style>\n<table border=\"1\" class=\"dataframe\">\n  <thead>\n    <tr style=\"text-align: right;\">\n      <th></th>\n      <th>W</th>\n      <th>X</th>\n      <th>Y</th>\n      <th>Z</th>\n    </tr>\n  </thead>\n  <tbody>\n    <tr>\n      <th>B</th>\n      <td>6</td>\n      <td>-29</td>\n      <td>88</td>\n      <td>-80</td>\n    </tr>\n    <tr>\n      <th>D</th>\n      <td>16</td>\n      <td>-1</td>\n      <td>3</td>\n      <td>51</td>\n    </tr>\n  </tbody>\n</table>\n</div>"
          },
          "metadata": {}
        }
      ],
      "execution_count": 87
    },
    {
      "cell_type": "code",
      "source": "df",
      "metadata": {
        "trusted": true
      },
      "outputs": [
        {
          "execution_count": 88,
          "output_type": "execute_result",
          "data": {
            "text/plain": "    W   X   Y   Z\nA   2  79  -8 -86\nB   6 -29  88 -80\nC   2  21 -26 -13\nD  16  -1   3  51\nE  30  49 -48 -99",
            "text/html": "<div>\n<style scoped>\n    .dataframe tbody tr th:only-of-type {\n        vertical-align: middle;\n    }\n\n    .dataframe tbody tr th {\n        vertical-align: top;\n    }\n\n    .dataframe thead th {\n        text-align: right;\n    }\n</style>\n<table border=\"1\" class=\"dataframe\">\n  <thead>\n    <tr style=\"text-align: right;\">\n      <th></th>\n      <th>W</th>\n      <th>X</th>\n      <th>Y</th>\n      <th>Z</th>\n    </tr>\n  </thead>\n  <tbody>\n    <tr>\n      <th>A</th>\n      <td>2</td>\n      <td>79</td>\n      <td>-8</td>\n      <td>-86</td>\n    </tr>\n    <tr>\n      <th>B</th>\n      <td>6</td>\n      <td>-29</td>\n      <td>88</td>\n      <td>-80</td>\n    </tr>\n    <tr>\n      <th>C</th>\n      <td>2</td>\n      <td>21</td>\n      <td>-26</td>\n      <td>-13</td>\n    </tr>\n    <tr>\n      <th>D</th>\n      <td>16</td>\n      <td>-1</td>\n      <td>3</td>\n      <td>51</td>\n    </tr>\n    <tr>\n      <th>E</th>\n      <td>30</td>\n      <td>49</td>\n      <td>-48</td>\n      <td>-99</td>\n    </tr>\n  </tbody>\n</table>\n</div>"
          },
          "metadata": {}
        }
      ],
      "execution_count": 88
    },
    {
      "cell_type": "code",
      "source": "df.reset_index()",
      "metadata": {
        "trusted": true
      },
      "outputs": [
        {
          "execution_count": 89,
          "output_type": "execute_result",
          "data": {
            "text/plain": "  index   W   X   Y   Z\n0     A   2  79  -8 -86\n1     B   6 -29  88 -80\n2     C   2  21 -26 -13\n3     D  16  -1   3  51\n4     E  30  49 -48 -99",
            "text/html": "<div>\n<style scoped>\n    .dataframe tbody tr th:only-of-type {\n        vertical-align: middle;\n    }\n\n    .dataframe tbody tr th {\n        vertical-align: top;\n    }\n\n    .dataframe thead th {\n        text-align: right;\n    }\n</style>\n<table border=\"1\" class=\"dataframe\">\n  <thead>\n    <tr style=\"text-align: right;\">\n      <th></th>\n      <th>index</th>\n      <th>W</th>\n      <th>X</th>\n      <th>Y</th>\n      <th>Z</th>\n    </tr>\n  </thead>\n  <tbody>\n    <tr>\n      <th>0</th>\n      <td>A</td>\n      <td>2</td>\n      <td>79</td>\n      <td>-8</td>\n      <td>-86</td>\n    </tr>\n    <tr>\n      <th>1</th>\n      <td>B</td>\n      <td>6</td>\n      <td>-29</td>\n      <td>88</td>\n      <td>-80</td>\n    </tr>\n    <tr>\n      <th>2</th>\n      <td>C</td>\n      <td>2</td>\n      <td>21</td>\n      <td>-26</td>\n      <td>-13</td>\n    </tr>\n    <tr>\n      <th>3</th>\n      <td>D</td>\n      <td>16</td>\n      <td>-1</td>\n      <td>3</td>\n      <td>51</td>\n    </tr>\n    <tr>\n      <th>4</th>\n      <td>E</td>\n      <td>30</td>\n      <td>49</td>\n      <td>-48</td>\n      <td>-99</td>\n    </tr>\n  </tbody>\n</table>\n</div>"
          },
          "metadata": {}
        }
      ],
      "execution_count": 89
    },
    {
      "cell_type": "code",
      "source": "df",
      "metadata": {
        "trusted": true
      },
      "outputs": [
        {
          "execution_count": 90,
          "output_type": "execute_result",
          "data": {
            "text/plain": "    W   X   Y   Z\nA   2  79  -8 -86\nB   6 -29  88 -80\nC   2  21 -26 -13\nD  16  -1   3  51\nE  30  49 -48 -99",
            "text/html": "<div>\n<style scoped>\n    .dataframe tbody tr th:only-of-type {\n        vertical-align: middle;\n    }\n\n    .dataframe tbody tr th {\n        vertical-align: top;\n    }\n\n    .dataframe thead th {\n        text-align: right;\n    }\n</style>\n<table border=\"1\" class=\"dataframe\">\n  <thead>\n    <tr style=\"text-align: right;\">\n      <th></th>\n      <th>W</th>\n      <th>X</th>\n      <th>Y</th>\n      <th>Z</th>\n    </tr>\n  </thead>\n  <tbody>\n    <tr>\n      <th>A</th>\n      <td>2</td>\n      <td>79</td>\n      <td>-8</td>\n      <td>-86</td>\n    </tr>\n    <tr>\n      <th>B</th>\n      <td>6</td>\n      <td>-29</td>\n      <td>88</td>\n      <td>-80</td>\n    </tr>\n    <tr>\n      <th>C</th>\n      <td>2</td>\n      <td>21</td>\n      <td>-26</td>\n      <td>-13</td>\n    </tr>\n    <tr>\n      <th>D</th>\n      <td>16</td>\n      <td>-1</td>\n      <td>3</td>\n      <td>51</td>\n    </tr>\n    <tr>\n      <th>E</th>\n      <td>30</td>\n      <td>49</td>\n      <td>-48</td>\n      <td>-99</td>\n    </tr>\n  </tbody>\n</table>\n</div>"
          },
          "metadata": {}
        }
      ],
      "execution_count": 90
    },
    {
      "cell_type": "code",
      "source": "new_ind = ['CA', 'NY', 'WY', 'OR', 'CO']",
      "metadata": {
        "trusted": true
      },
      "outputs": [],
      "execution_count": 92
    },
    {
      "cell_type": "code",
      "source": "df['States'] = new_ind",
      "metadata": {
        "trusted": true
      },
      "outputs": [],
      "execution_count": 93
    },
    {
      "cell_type": "code",
      "source": "df['States']",
      "metadata": {
        "trusted": true
      },
      "outputs": [
        {
          "execution_count": 94,
          "output_type": "execute_result",
          "data": {
            "text/plain": "A    CA\nB    NY\nC    WY\nD    OR\nE    CO\nName: States, dtype: object"
          },
          "metadata": {}
        }
      ],
      "execution_count": 94
    },
    {
      "cell_type": "code",
      "source": "df",
      "metadata": {
        "trusted": true
      },
      "outputs": [
        {
          "execution_count": 95,
          "output_type": "execute_result",
          "data": {
            "text/plain": "    W   X   Y   Z States\nA   2  79  -8 -86     CA\nB   6 -29  88 -80     NY\nC   2  21 -26 -13     WY\nD  16  -1   3  51     OR\nE  30  49 -48 -99     CO",
            "text/html": "<div>\n<style scoped>\n    .dataframe tbody tr th:only-of-type {\n        vertical-align: middle;\n    }\n\n    .dataframe tbody tr th {\n        vertical-align: top;\n    }\n\n    .dataframe thead th {\n        text-align: right;\n    }\n</style>\n<table border=\"1\" class=\"dataframe\">\n  <thead>\n    <tr style=\"text-align: right;\">\n      <th></th>\n      <th>W</th>\n      <th>X</th>\n      <th>Y</th>\n      <th>Z</th>\n      <th>States</th>\n    </tr>\n  </thead>\n  <tbody>\n    <tr>\n      <th>A</th>\n      <td>2</td>\n      <td>79</td>\n      <td>-8</td>\n      <td>-86</td>\n      <td>CA</td>\n    </tr>\n    <tr>\n      <th>B</th>\n      <td>6</td>\n      <td>-29</td>\n      <td>88</td>\n      <td>-80</td>\n      <td>NY</td>\n    </tr>\n    <tr>\n      <th>C</th>\n      <td>2</td>\n      <td>21</td>\n      <td>-26</td>\n      <td>-13</td>\n      <td>WY</td>\n    </tr>\n    <tr>\n      <th>D</th>\n      <td>16</td>\n      <td>-1</td>\n      <td>3</td>\n      <td>51</td>\n      <td>OR</td>\n    </tr>\n    <tr>\n      <th>E</th>\n      <td>30</td>\n      <td>49</td>\n      <td>-48</td>\n      <td>-99</td>\n      <td>CO</td>\n    </tr>\n  </tbody>\n</table>\n</div>"
          },
          "metadata": {}
        }
      ],
      "execution_count": 95
    },
    {
      "cell_type": "code",
      "source": "# Now, lets say we want the States column to be our index",
      "metadata": {
        "trusted": true
      },
      "outputs": [],
      "execution_count": 101
    },
    {
      "cell_type": "code",
      "source": "df_1 = df.set_index(['States'])",
      "metadata": {
        "trusted": true
      },
      "outputs": [],
      "execution_count": 99
    },
    {
      "cell_type": "code",
      "source": "df_1",
      "metadata": {
        "trusted": true
      },
      "outputs": [
        {
          "execution_count": 100,
          "output_type": "execute_result",
          "data": {
            "text/plain": "         W   X   Y   Z\nStates                \nCA       2  79  -8 -86\nNY       6 -29  88 -80\nWY       2  21 -26 -13\nOR      16  -1   3  51\nCO      30  49 -48 -99",
            "text/html": "<div>\n<style scoped>\n    .dataframe tbody tr th:only-of-type {\n        vertical-align: middle;\n    }\n\n    .dataframe tbody tr th {\n        vertical-align: top;\n    }\n\n    .dataframe thead th {\n        text-align: right;\n    }\n</style>\n<table border=\"1\" class=\"dataframe\">\n  <thead>\n    <tr style=\"text-align: right;\">\n      <th></th>\n      <th>W</th>\n      <th>X</th>\n      <th>Y</th>\n      <th>Z</th>\n    </tr>\n    <tr>\n      <th>States</th>\n      <th></th>\n      <th></th>\n      <th></th>\n      <th></th>\n    </tr>\n  </thead>\n  <tbody>\n    <tr>\n      <th>CA</th>\n      <td>2</td>\n      <td>79</td>\n      <td>-8</td>\n      <td>-86</td>\n    </tr>\n    <tr>\n      <th>NY</th>\n      <td>6</td>\n      <td>-29</td>\n      <td>88</td>\n      <td>-80</td>\n    </tr>\n    <tr>\n      <th>WY</th>\n      <td>2</td>\n      <td>21</td>\n      <td>-26</td>\n      <td>-13</td>\n    </tr>\n    <tr>\n      <th>OR</th>\n      <td>16</td>\n      <td>-1</td>\n      <td>3</td>\n      <td>51</td>\n    </tr>\n    <tr>\n      <th>CO</th>\n      <td>30</td>\n      <td>49</td>\n      <td>-48</td>\n      <td>-99</td>\n    </tr>\n  </tbody>\n</table>\n</div>"
          },
          "metadata": {}
        }
      ],
      "execution_count": 100
    },
    {
      "cell_type": "code",
      "source": "# NOTE: df .columns",
      "metadata": {
        "trusted": true
      },
      "outputs": [],
      "execution_count": 102
    },
    {
      "cell_type": "code",
      "source": "df_1.describe()",
      "metadata": {
        "trusted": true
      },
      "outputs": [
        {
          "execution_count": 103,
          "output_type": "execute_result",
          "data": {
            "text/plain": "              W          X          Y          Z\ncount   5.00000   5.000000   5.000000   5.000000\nmean   11.20000  23.800000   1.800000 -45.400000\nstd    11.96662  42.109381  51.915316  63.366395\nmin     2.00000 -29.000000 -48.000000 -99.000000\n25%     2.00000  -1.000000 -26.000000 -86.000000\n50%     6.00000  21.000000  -8.000000 -80.000000\n75%    16.00000  49.000000   3.000000 -13.000000\nmax    30.00000  79.000000  88.000000  51.000000",
            "text/html": "<div>\n<style scoped>\n    .dataframe tbody tr th:only-of-type {\n        vertical-align: middle;\n    }\n\n    .dataframe tbody tr th {\n        vertical-align: top;\n    }\n\n    .dataframe thead th {\n        text-align: right;\n    }\n</style>\n<table border=\"1\" class=\"dataframe\">\n  <thead>\n    <tr style=\"text-align: right;\">\n      <th></th>\n      <th>W</th>\n      <th>X</th>\n      <th>Y</th>\n      <th>Z</th>\n    </tr>\n  </thead>\n  <tbody>\n    <tr>\n      <th>count</th>\n      <td>5.00000</td>\n      <td>5.000000</td>\n      <td>5.000000</td>\n      <td>5.000000</td>\n    </tr>\n    <tr>\n      <th>mean</th>\n      <td>11.20000</td>\n      <td>23.800000</td>\n      <td>1.800000</td>\n      <td>-45.400000</td>\n    </tr>\n    <tr>\n      <th>std</th>\n      <td>11.96662</td>\n      <td>42.109381</td>\n      <td>51.915316</td>\n      <td>63.366395</td>\n    </tr>\n    <tr>\n      <th>min</th>\n      <td>2.00000</td>\n      <td>-29.000000</td>\n      <td>-48.000000</td>\n      <td>-99.000000</td>\n    </tr>\n    <tr>\n      <th>25%</th>\n      <td>2.00000</td>\n      <td>-1.000000</td>\n      <td>-26.000000</td>\n      <td>-86.000000</td>\n    </tr>\n    <tr>\n      <th>50%</th>\n      <td>6.00000</td>\n      <td>21.000000</td>\n      <td>-8.000000</td>\n      <td>-80.000000</td>\n    </tr>\n    <tr>\n      <th>75%</th>\n      <td>16.00000</td>\n      <td>49.000000</td>\n      <td>3.000000</td>\n      <td>-13.000000</td>\n    </tr>\n    <tr>\n      <th>max</th>\n      <td>30.00000</td>\n      <td>79.000000</td>\n      <td>88.000000</td>\n      <td>51.000000</td>\n    </tr>\n  </tbody>\n</table>\n</div>"
          },
          "metadata": {}
        }
      ],
      "execution_count": 103
    },
    {
      "cell_type": "code",
      "source": "df_1.info()",
      "metadata": {
        "trusted": true
      },
      "outputs": [
        {
          "name": "stdout",
          "text": "<class 'pandas.core.frame.DataFrame'>\nIndex: 5 entries, CA to CO\nData columns (total 4 columns):\n #   Column  Non-Null Count  Dtype\n---  ------  --------------  -----\n 0   W       5 non-null      int32\n 1   X       5 non-null      int32\n 2   Y       5 non-null      int32\n 3   Z       5 non-null      int32\ndtypes: int32(4)\nmemory usage: 100.0+ bytes\n",
          "output_type": "stream"
        }
      ],
      "execution_count": 104
    },
    {
      "cell_type": "code",
      "source": "df.dtypes",
      "metadata": {
        "trusted": true
      },
      "outputs": [
        {
          "execution_count": 105,
          "output_type": "execute_result",
          "data": {
            "text/plain": "W          int32\nX          int32\nY          int32\nZ          int32\nStates    object\ndtype: object"
          },
          "metadata": {}
        }
      ],
      "execution_count": 105
    },
    {
      "cell_type": "code",
      "source": "",
      "metadata": {
        "trusted": true
      },
      "outputs": [],
      "execution_count": null
    }
  ]
}